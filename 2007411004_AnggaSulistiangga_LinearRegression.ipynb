{
  "metadata": {
    "language_info": {
      "codemirror_mode": {
        "name": "python",
        "version": 3
      },
      "file_extension": ".py",
      "mimetype": "text/x-python",
      "name": "python",
      "nbconvert_exporter": "python",
      "pygments_lexer": "ipython3",
      "version": "3.8"
    },
    "kernelspec": {
      "name": "python",
      "display_name": "Python (Pyodide)",
      "language": "python"
    }
  },
  "nbformat_minor": 4,
  "nbformat": 4,
  "cells": [
    {
      "cell_type": "code",
      "source": "import pandas as pd\nimport numpy as np\nimport quandl, math\ndf = quandl.get(\"WIKI/GOOGL\")\nprint(df.head())",
      "metadata": {
        "trusted": true
      },
      "execution_count": null,
      "outputs": []
    },
    {
      "cell_type": "code",
      "source": "df = df[['Adj. Open', 'Adj. High', 'Adj. Low', 'Adj. Close', 'Adj. Volume']]",
      "metadata": {
        "trusted": true
      },
      "execution_count": null,
      "outputs": []
    },
    {
      "cell_type": "code",
      "source": "df['HL_PCT'] = (df['Adj. High'] - df['Adj. Low']) / df['Adj. Close']\ndf['PCT_change'] = (df['Adj. Close'] - df['Adj. Open']) / df['Adj. Open'] * 100.0\ndf = df[['Adj. Close', 'HL_PCT', 'PCT_change', 'Adj. Volume']]\nprint(df.head())",
      "metadata": {
        "trusted": true
      },
      "execution_count": null,
      "outputs": []
    },
    {
      "cell_type": "code",
      "source": "from sklearn import preprocessing, svm\nfrom sklearn.model_selection import train_test_split\nfrom sklearn.linear_model import LinearRegression\n\nforecast_col = 'Adj. Close' \ndf.fillna(value=-99999, inplace=True)\nforecast_out = int(math.ceil(0.01 * len(df)))\ndf['label'] = df[forecast_col].shift(-forecast_out)",
      "metadata": {
        "trusted": true
      },
      "execution_count": null,
      "outputs": []
    },
    {
      "cell_type": "code",
      "source": "df.dropna(inplace=True)",
      "metadata": {
        "trusted": true
      },
      "execution_count": null,
      "outputs": []
    },
    {
      "cell_type": "code",
      "source": "X = np.array(df.drop(['label'], 1))\ndf.dropna(inplace=True)\ny = np.array(df['label'])\n\nX = preprocessing.scale(X)\ny = np.array(df['label'])",
      "metadata": {
        "trusted": true
      },
      "execution_count": null,
      "outputs": []
    },
    {
      "cell_type": "code",
      "source": "X_train, X_test, y_train, y_test = train_test_split(X, y, test_size=0.2)\nclf = svm.SVR()\n\nclf.fit(X_train, y_train)\nconfidence = clf.score(X_test, y_test)\n\nprint(confidence)",
      "metadata": {
        "trusted": true
      },
      "execution_count": null,
      "outputs": []
    },
    {
      "cell_type": "code",
      "source": "clf = LinearRegression()\nclf.fit(X_train, y_train)\nconfidence = clf.score(X_test, y_test)\nprint(confidence)",
      "metadata": {
        "trusted": true
      },
      "execution_count": null,
      "outputs": []
    },
    {
      "cell_type": "code",
      "source": "clf = LinearRegression(n_jobs=-1)",
      "metadata": {
        "trusted": true
      },
      "execution_count": null,
      "outputs": []
    },
    {
      "cell_type": "code",
      "source": "for k in ['linear','poly','rbf','sigmoid']:\n    clf = svm.SVR(kernel=k)\n    clf.fit(X_train, y_train)\n    confidence = clf.score(X_test, y_test)\n    print(k,confidence)",
      "metadata": {
        "trusted": true
      },
      "execution_count": null,
      "outputs": []
    },
    {
      "cell_type": "code",
      "source": "X = np.array(df.drop(['label'], 1))\nX = preprocessing.scale(X)\nX_lately = X[-forecast_out:]\nX = X[:-forecast_out]",
      "metadata": {
        "trusted": true
      },
      "execution_count": null,
      "outputs": []
    },
    {
      "cell_type": "code",
      "source": "df.dropna(inplace=True)",
      "metadata": {
        "trusted": true
      },
      "execution_count": null,
      "outputs": []
    },
    {
      "cell_type": "code",
      "source": "y = np.array(df['label'])",
      "metadata": {
        "trusted": true
      },
      "execution_count": null,
      "outputs": []
    },
    {
      "cell_type": "code",
      "source": "df.dropna(inplace=True)\n\ny = np.array(df['label'])\nX_train, X_test, y_train, y_test = train_test_split(X, y, test_size=0.2)\n\nclf = LinearRegression(n_jobs=-1)\nclf.fit(X_train, y_train)\nconfidence = clf.score(X_test, y_test)\n\nprint(confidence)",
      "metadata": {
        "trusted": true
      },
      "execution_count": null,
      "outputs": []
    },
    {
      "cell_type": "code",
      "source": "forecast_set = clf.predict(X_lately)\nprint(forecast_set, confidence, forecast_out)",
      "metadata": {
        "trusted": true
      },
      "execution_count": null,
      "outputs": []
    },
    {
      "cell_type": "code",
      "source": "import datetime\nimport matplotlib.pyplot as plt\nfrom matplotlib import style\nstyle.use('ggplot')",
      "metadata": {
        "trusted": true
      },
      "execution_count": null,
      "outputs": []
    },
    {
      "cell_type": "code",
      "source": "df['Forecast'] = np.nan",
      "metadata": {
        "trusted": true
      },
      "execution_count": null,
      "outputs": []
    },
    {
      "cell_type": "code",
      "source": "last_date = df.iloc[-1].name\nlast_unix = last_date.timestamp()\none_day = 86400 #24×60×60\nnext_unix = last_unix + one_day",
      "metadata": {
        "trusted": true
      },
      "execution_count": null,
      "outputs": []
    },
    {
      "cell_type": "code",
      "source": "for i in forecast_set:\n    next_date = datetime.datetime.fromtimestamp(next_unix)\n    next_unix += 86400\n    df.loc[next_date] = [np.nan for _ in range(len(df.columns)-1)]+[i]\n",
      "metadata": {
        "trusted": true
      },
      "execution_count": null,
      "outputs": []
    },
    {
      "cell_type": "code",
      "source": "df['Adj. Close'].plot()\ndf['Forecast'].plot()\nplt.legend(loc=4)\nplt.xlabel('Date')\nplt.ylabel('Price')\nplt.show()",
      "metadata": {
        "trusted": true
      },
      "execution_count": null,
      "outputs": []
    }
  ]
}